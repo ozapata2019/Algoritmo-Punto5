{
 "cells": [
  {
   "cell_type": "code",
   "execution_count": 2,
   "metadata": {},
   "outputs": [],
   "source": [
    "#Instalar libreria pandas-datareader  \" pip install pandas-datareader\" En Anaconda\n",
    "import pandas as pd\n",
    "import numpy as np\n",
    "from sklearn.model_selection import train_test_split \n",
    "from sklearn.preprocessing import StandardScaler\n",
    "from sklearn import svm\n",
    "from sklearn.metrics import confusion_matrix\n",
    "import matplotlib.pyplot as plt\n",
    "from sklearn.metrics import plot_confusion_matrix\n",
    "from sklearn import tree"
   ]
  },
  {
   "cell_type": "markdown",
   "metadata": {},
   "source": [
    "# 5.1 Leer los datos:\n",
    "Cargar la base de datos usando la libreria pandas (Python). Considere la ultima columna de\n",
    "la base de datos como el vector de clases o etiquetas.\n",
    "\n",
    "HTRU2 Data Set-Description\n",
    "https://archive.ics.uci.edu/ml/datasets/HTRU2\n"
   ]
  },
  {
   "cell_type": "code",
   "execution_count": 3,
   "metadata": {},
   "outputs": [],
   "source": [
    "df_datos = pd.read_csv(\"HTRU_2.csv\",header=None)"
   ]
  },
  {
   "cell_type": "code",
   "execution_count": 4,
   "metadata": {},
   "outputs": [
    {
     "data": {
      "text/html": [
       "<div>\n",
       "<style scoped>\n",
       "    .dataframe tbody tr th:only-of-type {\n",
       "        vertical-align: middle;\n",
       "    }\n",
       "\n",
       "    .dataframe tbody tr th {\n",
       "        vertical-align: top;\n",
       "    }\n",
       "\n",
       "    .dataframe thead th {\n",
       "        text-align: right;\n",
       "    }\n",
       "</style>\n",
       "<table border=\"1\" class=\"dataframe\">\n",
       "  <thead>\n",
       "    <tr style=\"text-align: right;\">\n",
       "      <th></th>\n",
       "      <th>0</th>\n",
       "      <th>1</th>\n",
       "      <th>2</th>\n",
       "      <th>3</th>\n",
       "      <th>4</th>\n",
       "      <th>5</th>\n",
       "      <th>6</th>\n",
       "      <th>7</th>\n",
       "      <th>8</th>\n",
       "    </tr>\n",
       "  </thead>\n",
       "  <tbody>\n",
       "    <tr>\n",
       "      <th>0</th>\n",
       "      <td>140.562500</td>\n",
       "      <td>55.683782</td>\n",
       "      <td>-0.234571</td>\n",
       "      <td>-0.699648</td>\n",
       "      <td>3.199833</td>\n",
       "      <td>19.110426</td>\n",
       "      <td>7.975532</td>\n",
       "      <td>74.242225</td>\n",
       "      <td>0</td>\n",
       "    </tr>\n",
       "    <tr>\n",
       "      <th>1</th>\n",
       "      <td>102.507812</td>\n",
       "      <td>58.882430</td>\n",
       "      <td>0.465318</td>\n",
       "      <td>-0.515088</td>\n",
       "      <td>1.677258</td>\n",
       "      <td>14.860146</td>\n",
       "      <td>10.576487</td>\n",
       "      <td>127.393580</td>\n",
       "      <td>0</td>\n",
       "    </tr>\n",
       "    <tr>\n",
       "      <th>2</th>\n",
       "      <td>103.015625</td>\n",
       "      <td>39.341649</td>\n",
       "      <td>0.323328</td>\n",
       "      <td>1.051164</td>\n",
       "      <td>3.121237</td>\n",
       "      <td>21.744669</td>\n",
       "      <td>7.735822</td>\n",
       "      <td>63.171909</td>\n",
       "      <td>0</td>\n",
       "    </tr>\n",
       "    <tr>\n",
       "      <th>3</th>\n",
       "      <td>136.750000</td>\n",
       "      <td>57.178449</td>\n",
       "      <td>-0.068415</td>\n",
       "      <td>-0.636238</td>\n",
       "      <td>3.642977</td>\n",
       "      <td>20.959280</td>\n",
       "      <td>6.896499</td>\n",
       "      <td>53.593661</td>\n",
       "      <td>0</td>\n",
       "    </tr>\n",
       "    <tr>\n",
       "      <th>4</th>\n",
       "      <td>88.726562</td>\n",
       "      <td>40.672225</td>\n",
       "      <td>0.600866</td>\n",
       "      <td>1.123492</td>\n",
       "      <td>1.178930</td>\n",
       "      <td>11.468720</td>\n",
       "      <td>14.269573</td>\n",
       "      <td>252.567306</td>\n",
       "      <td>0</td>\n",
       "    </tr>\n",
       "    <tr>\n",
       "      <th>...</th>\n",
       "      <td>...</td>\n",
       "      <td>...</td>\n",
       "      <td>...</td>\n",
       "      <td>...</td>\n",
       "      <td>...</td>\n",
       "      <td>...</td>\n",
       "      <td>...</td>\n",
       "      <td>...</td>\n",
       "      <td>...</td>\n",
       "    </tr>\n",
       "    <tr>\n",
       "      <th>17893</th>\n",
       "      <td>136.429688</td>\n",
       "      <td>59.847421</td>\n",
       "      <td>-0.187846</td>\n",
       "      <td>-0.738123</td>\n",
       "      <td>1.296823</td>\n",
       "      <td>12.166062</td>\n",
       "      <td>15.450260</td>\n",
       "      <td>285.931022</td>\n",
       "      <td>0</td>\n",
       "    </tr>\n",
       "    <tr>\n",
       "      <th>17894</th>\n",
       "      <td>122.554688</td>\n",
       "      <td>49.485605</td>\n",
       "      <td>0.127978</td>\n",
       "      <td>0.323061</td>\n",
       "      <td>16.409699</td>\n",
       "      <td>44.626893</td>\n",
       "      <td>2.945244</td>\n",
       "      <td>8.297092</td>\n",
       "      <td>0</td>\n",
       "    </tr>\n",
       "    <tr>\n",
       "      <th>17895</th>\n",
       "      <td>119.335938</td>\n",
       "      <td>59.935939</td>\n",
       "      <td>0.159363</td>\n",
       "      <td>-0.743025</td>\n",
       "      <td>21.430602</td>\n",
       "      <td>58.872000</td>\n",
       "      <td>2.499517</td>\n",
       "      <td>4.595173</td>\n",
       "      <td>0</td>\n",
       "    </tr>\n",
       "    <tr>\n",
       "      <th>17896</th>\n",
       "      <td>114.507812</td>\n",
       "      <td>53.902400</td>\n",
       "      <td>0.201161</td>\n",
       "      <td>-0.024789</td>\n",
       "      <td>1.946488</td>\n",
       "      <td>13.381731</td>\n",
       "      <td>10.007967</td>\n",
       "      <td>134.238910</td>\n",
       "      <td>0</td>\n",
       "    </tr>\n",
       "    <tr>\n",
       "      <th>17897</th>\n",
       "      <td>57.062500</td>\n",
       "      <td>85.797340</td>\n",
       "      <td>1.406391</td>\n",
       "      <td>0.089520</td>\n",
       "      <td>188.306020</td>\n",
       "      <td>64.712562</td>\n",
       "      <td>-1.597527</td>\n",
       "      <td>1.429475</td>\n",
       "      <td>0</td>\n",
       "    </tr>\n",
       "  </tbody>\n",
       "</table>\n",
       "<p>17898 rows × 9 columns</p>\n",
       "</div>"
      ],
      "text/plain": [
       "                0          1         2         3           4          5  \\\n",
       "0      140.562500  55.683782 -0.234571 -0.699648    3.199833  19.110426   \n",
       "1      102.507812  58.882430  0.465318 -0.515088    1.677258  14.860146   \n",
       "2      103.015625  39.341649  0.323328  1.051164    3.121237  21.744669   \n",
       "3      136.750000  57.178449 -0.068415 -0.636238    3.642977  20.959280   \n",
       "4       88.726562  40.672225  0.600866  1.123492    1.178930  11.468720   \n",
       "...           ...        ...       ...       ...         ...        ...   \n",
       "17893  136.429688  59.847421 -0.187846 -0.738123    1.296823  12.166062   \n",
       "17894  122.554688  49.485605  0.127978  0.323061   16.409699  44.626893   \n",
       "17895  119.335938  59.935939  0.159363 -0.743025   21.430602  58.872000   \n",
       "17896  114.507812  53.902400  0.201161 -0.024789    1.946488  13.381731   \n",
       "17897   57.062500  85.797340  1.406391  0.089520  188.306020  64.712562   \n",
       "\n",
       "               6           7  8  \n",
       "0       7.975532   74.242225  0  \n",
       "1      10.576487  127.393580  0  \n",
       "2       7.735822   63.171909  0  \n",
       "3       6.896499   53.593661  0  \n",
       "4      14.269573  252.567306  0  \n",
       "...          ...         ... ..  \n",
       "17893  15.450260  285.931022  0  \n",
       "17894   2.945244    8.297092  0  \n",
       "17895   2.499517    4.595173  0  \n",
       "17896  10.007967  134.238910  0  \n",
       "17897  -1.597527    1.429475  0  \n",
       "\n",
       "[17898 rows x 9 columns]"
      ]
     },
     "execution_count": 4,
     "metadata": {},
     "output_type": "execute_result"
    }
   ],
   "source": [
    "df_datos"
   ]
  },
  {
   "cell_type": "markdown",
   "metadata": {},
   "source": [
    "# Normalizar los datos\n",
    "\n",
    "StandardScaler\n",
    "\n",
    "z = (x - u) / s"
   ]
  },
  {
   "cell_type": "code",
   "execution_count": 5,
   "metadata": {},
   "outputs": [],
   "source": [
    "X = df_datos.values[:,:-1]\n",
    "# Solo debemos noramlizar las variables en cuestion no la etiqueta del registro por eso no se selecciona la ultima columna"
   ]
  },
  {
   "cell_type": "code",
   "execution_count": 6,
   "metadata": {},
   "outputs": [
    {
     "data": {
      "text/plain": [
       "array([[140.5625    ,  55.68378214,  -0.23457141, ...,  19.11042633,\n",
       "          7.97553179,  74.24222492],\n",
       "       [102.5078125 ,  58.88243001,   0.46531815, ...,  14.86014572,\n",
       "         10.57648674, 127.3935796 ],\n",
       "       [103.015625  ,  39.34164944,   0.32332837, ...,  21.74466875,\n",
       "          7.73582202,  63.17190911],\n",
       "       ...,\n",
       "       [119.3359375 ,  59.93593941,   0.1593631 , ...,  58.8720002 ,\n",
       "          2.49951714,   4.59517265],\n",
       "       [114.5078125 ,  53.90239966,   0.20116138, ...,  13.38173065,\n",
       "         10.00796731, 134.2389095 ],\n",
       "       [ 57.0625    ,  85.79734025,   1.40639105, ...,  64.71256228,\n",
       "         -1.59752658,   1.42947536]])"
      ]
     },
     "execution_count": 6,
     "metadata": {},
     "output_type": "execute_result"
    }
   ],
   "source": [
    "X"
   ]
  },
  {
   "cell_type": "code",
   "execution_count": 7,
   "metadata": {},
   "outputs": [
    {
     "name": "stdout",
     "output_type": "stream",
     "text": [
      "[111.07996834  46.54953156   0.47785726   1.770279    12.61439966\n",
      "  26.3265147    8.30355612 104.8577087 ]\n"
     ]
    }
   ],
   "source": [
    "# Configurar el normalizador, lo configuramos con los datos\n",
    "scaler = StandardScaler()\n",
    "scaler.fit(X)\n",
    "print(scaler.mean_) #Las medias de las variables luego de ser normalizadas"
   ]
  },
  {
   "cell_type": "code",
   "execution_count": 8,
   "metadata": {},
   "outputs": [],
   "source": [
    "X = scaler.transform(X) #Normalizamos todo el dataset"
   ]
  },
  {
   "cell_type": "code",
   "execution_count": 9,
   "metadata": {},
   "outputs": [
    {
     "data": {
      "text/plain": [
       "array([[ 1.14931702,  1.33483164, -0.66956953, ..., -0.37062547,\n",
       "        -0.07279778, -0.28743812],\n",
       "       [-0.3341682 ,  1.80226533, -0.01178476, ..., -0.5889241 ,\n",
       "         0.50442694,  0.21158145],\n",
       "       [-0.31437216, -1.05332222, -0.14523256, ..., -0.23532816,\n",
       "        -0.12599609, -0.39137346],\n",
       "       ...,\n",
       "       [ 0.3218423 ,  1.95621968, -0.2993338 , ...,  1.67156847,\n",
       "        -1.28807874, -0.94133005],\n",
       "       [ 0.13362759,  1.07450972, -0.26005007, ..., -0.66485697,\n",
       "         0.37825656,  0.27584987],\n",
       "       [-2.10576204,  5.73546965,  0.87267394, ...,  1.97154554,\n",
       "        -2.19732744, -0.97105168]])"
      ]
     },
     "execution_count": 9,
     "metadata": {},
     "output_type": "execute_result"
    }
   ],
   "source": [
    "X # Como se ve se normalizo los datos"
   ]
  },
  {
   "cell_type": "markdown",
   "metadata": {},
   "source": [
    "# 5.2. Dividir datos :\n",
    "Usar la funcion train test split para separar 70% como datos de entrenamiento y 30% como\n",
    "datos de validacion y prueba."
   ]
  },
  {
   "cell_type": "code",
   "execution_count": 10,
   "metadata": {},
   "outputs": [
    {
     "name": "stdout",
     "output_type": "stream",
     "text": [
      "[0. 0. 0. ... 0. 0. 0.]\n",
      "Original (17898, 8)\n",
      "Ejemplos usados para entrenar:  (12528, 8)\n",
      "Ejemplos usados para test:  (5370, 8)\n"
     ]
    }
   ],
   "source": [
    "#Considere la \u0013ultima columna de la base de datos como el vector de clases o etiquetas.\n",
    "Y = df_datos.values[:,-1]\n",
    "print(Y)\n",
    "print(\"Original\",X.shape)\n",
    "\n",
    "X_train, X_test, y_train, y_test  = train_test_split(X,Y, train_size  = 0.70)\n",
    "\n",
    "\n",
    "print(\"Ejemplos usados para entrenar: \", X_train.shape)\n",
    "print(\"Ejemplos usados para test: \", X_test.shape)\n",
    "\n"
   ]
  },
  {
   "cell_type": "markdown",
   "metadata": {},
   "source": [
    "# 5.3. Configurar y entrenar el modelo:\n",
    "A partir de lo anterior, utilice los datos de entrenamiento para crear el modelo de clasi\f",
    "caci\u0013on\n",
    "(puede utilizar cualquier algoritmo de clasificacion de la libreria scikit-learn)."
   ]
  },
  {
   "cell_type": "markdown",
   "metadata": {},
   "source": [
    "\n",
    "# C-Support Vector Classification."
   ]
  },
  {
   "cell_type": "code",
   "execution_count": 11,
   "metadata": {},
   "outputs": [
    {
     "name": "stdout",
     "output_type": "stream",
     "text": [
      "[LibSVM]"
     ]
    },
    {
     "data": {
      "text/plain": [
       "SVC(verbose=True)"
      ]
     },
     "execution_count": 11,
     "metadata": {},
     "output_type": "execute_result"
    }
   ],
   "source": [
    "modelo = svm.SVC(kernel =\"rbf\",verbose=True)\n",
    "modelo.fit(X_train,y_train)"
   ]
  },
  {
   "cell_type": "markdown",
   "metadata": {},
   "source": [
    "###  Evaluar el modelo:\n",
    "Una vez creado el modelo, utilice los datos de prueba para validar el desempe~no del modelo.\n",
    "Se recomienda investigar diferentes metricas para analizar el desempeño del modelo."
   ]
  },
  {
   "cell_type": "code",
   "execution_count": 12,
   "metadata": {},
   "outputs": [],
   "source": [
    "y_pred = modelo.predict(X_test)"
   ]
  },
  {
   "cell_type": "markdown",
   "metadata": {},
   "source": [
    "## Metricas de desempeño\n",
    "###  Accuracy"
   ]
  },
  {
   "cell_type": "code",
   "execution_count": 13,
   "metadata": {},
   "outputs": [
    {
     "name": "stdout",
     "output_type": "stream",
     "text": [
      "0.9774674115456239\n"
     ]
    }
   ],
   "source": [
    "accuracy = modelo.score(X_test,y_test)\n",
    "print(accuracy) #Acurracy, Exacto es el modelo "
   ]
  },
  {
   "cell_type": "markdown",
   "metadata": {},
   "source": [
    "### Confusion Matrix"
   ]
  },
  {
   "cell_type": "code",
   "execution_count": 14,
   "metadata": {},
   "outputs": [
    {
     "data": {
      "image/png": "[encoded data removed]",
      "text/plain": [
       "<Figure size 432x288 with 2 Axes>"
      ]
     },
     "metadata": {
      "needs_background": "light"
     },
     "output_type": "display_data"
    }
   ],
   "source": [
    "disp = plot_confusion_matrix(modelo, X_test, y_test,\n",
    "                                 display_labels=[\"No Pulsar\",\"No pulsar\"],\n",
    "                                 cmap=plt.cm.Blues,\n",
    "                                 normalize=None)"
   ]
  },
  {
   "cell_type": "markdown",
   "metadata": {},
   "source": [
    "### Confusion Matrix Normalize"
   ]
  },
  {
   "cell_type": "code",
   "execution_count": 15,
   "metadata": {
    "scrolled": true
   },
   "outputs": [
    {
     "data": {
      "image/png": "[encoded data removed]",
      "text/plain": [
       "<Figure size 432x288 with 2 Axes>"
      ]
     },
     "metadata": {
      "needs_background": "light"
     },
     "output_type": "display_data"
    }
   ],
   "source": [
    "disp = plot_confusion_matrix(modelo, X_test, y_test,\n",
    "                                 display_labels=[\"No Pulsar\",\"Pulsar\"],\n",
    "                                 cmap=plt.cm.Blues,\n",
    "                                 normalize=\"true\")"
   ]
  },
  {
   "cell_type": "markdown",
   "metadata": {},
   "source": [
    "## DecisionTreeClassifier"
   ]
  },
  {
   "cell_type": "code",
   "execution_count": 16,
   "metadata": {},
   "outputs": [
    {
     "data": {
      "text/plain": [
       "DecisionTreeClassifier()"
      ]
     },
     "execution_count": 16,
     "metadata": {},
     "output_type": "execute_result"
    }
   ],
   "source": [
    "modelo = tree.DecisionTreeClassifier()\n",
    "modelo.fit(X_train,y_train)"
   ]
  },
  {
   "cell_type": "markdown",
   "metadata": {},
   "source": [
    "###  Evaluar el modelo:"
   ]
  },
  {
   "cell_type": "code",
   "execution_count": 17,
   "metadata": {},
   "outputs": [],
   "source": [
    "y_pred = modelo.predict(X_test)"
   ]
  },
  {
   "cell_type": "markdown",
   "metadata": {},
   "source": [
    "## Metricas de desempeño\n",
    "###  Accuracy"
   ]
  },
  {
   "cell_type": "code",
   "execution_count": 18,
   "metadata": {},
   "outputs": [
    {
     "name": "stdout",
     "output_type": "stream",
     "text": [
      "0.9670391061452513\n"
     ]
    }
   ],
   "source": [
    "accuracy = modelo.score(X_test,y_test)\n",
    "print(accuracy) #Acurracy, Exacto es el modelo "
   ]
  },
  {
   "cell_type": "markdown",
   "metadata": {},
   "source": [
    "### Confusion Matrix"
   ]
  },
  {
   "cell_type": "code",
   "execution_count": 19,
   "metadata": {},
   "outputs": [
    {
     "data": {
      "image/png": "[encoded data removed]",
      "text/plain": [
       "<Figure size 432x288 with 2 Axes>"
      ]
     },
     "metadata": {
      "needs_background": "light"
     },
     "output_type": "display_data"
    }
   ],
   "source": [
    "disp = plot_confusion_matrix(modelo, X_test, y_test,\n",
    "                                 display_labels=[\"No Pulsar\",\"No pulsar\"],\n",
    "                                 cmap=plt.cm.Blues,\n",
    "                                 normalize=None)"
   ]
  },
  {
   "cell_type": "markdown",
   "metadata": {},
   "source": [
    "### Confusion Matrix Normalize"
   ]
  },
  {
   "cell_type": "code",
   "execution_count": 20,
   "metadata": {},
   "outputs": [
    {
     "data": {
      "image/png": "[encoded data removed]",
      "text/plain": [
       "<Figure size 432x288 with 2 Axes>"
      ]
     },
     "metadata": {
      "needs_background": "light"
     },
     "output_type": "display_data"
    }
   ],
   "source": [
    "disp = plot_confusion_matrix(modelo, X_test, y_test,\n",
    "                                 display_labels=[\"No Pulsar\",\"Pulsar\"],\n",
    "                                 cmap=plt.cm.Blues,\n",
    "                                 normalize=\"true\")"
   ]
  },
  {
   "cell_type": "markdown",
   "metadata": {},
   "source": [
    "### Comparacion y conclusion de los resultados de la simulacion"
   ]
  },
  {
   "cell_type": "markdown",
   "metadata": {},
   "source": [
    "Luego de utilizar el C-Support Vector y Decision Tree Classifier para crear los modelos de clasificacion con sus parametros de por defecto y al entrenar este,utilizamos Accuracy(Precisión) como metrica para analizar el desempeño global, obtenemos un porcentaje de exactitud del 97% para la C-Support Vector Classification y 96% para el Decision Tree Classifier , a simple vista podríamos decir que la maquina de soporte es mejor modelo, sin embargo usar una sola metrica no es suficiente para escoger un modelo y mas en un problema de clasificación, por lo tanto usamos la matriz de confusión para evaluar la precisión de la clasificación por clases. Luego de observar la matriz de confusuión identificamos que el modelo de Decision Tree Classifier tiene mejores resultados clasificando la clase de interes(pulsares) con un 80% mientras que la Maquina de soporte clasifica correctamente solo el 78%, esto es una prueba mas de que usar solo una metrica para seleccionar un modelo es erroneo, si se fuera escoger un modelo seria el Decision Tree Classifier ya que su desempeño es mejor con la clase de interes(1).\n",
    "\n",
    "Un 80% no es un muy dado los resultado encontrados en el estado del arte, por lo anterior podemos concluir es necesario hacer ajuste en los valores de los parametros o las condiciones del modelo."
   ]
  }
 ],
 "metadata": {
  "kernelspec": {
   "display_name": "Python 3",
   "language": "python",
   "name": "python3"
  },
  "language_info": {
   "codemirror_mode": {
    "name": "ipython",
    "version": 3
   },
   "file_extension": ".py",
   "mimetype": "text/x-python",
   "name": "python",
   "nbconvert_exporter": "python",
   "pygments_lexer": "ipython3",
   "version": "3.8.3"
  }
 },
 "nbformat": 4,
 "nbformat_minor": 4
}
